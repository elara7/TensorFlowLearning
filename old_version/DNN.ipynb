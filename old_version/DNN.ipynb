{
 "cells": [
  {
   "cell_type": "code",
   "execution_count": 1,
   "metadata": {},
   "outputs": [
    {
     "name": "stderr",
     "output_type": "stream",
     "text": [
      "/home/kenn/anaconda3/envs/tf_base/lib/python3.6/site-packages/h5py/__init__.py:36: FutureWarning: Conversion of the second argument of issubdtype from `float` to `np.floating` is deprecated. In future, it will be treated as `np.float64 == np.dtype(float).type`.\n",
      "  from ._conv import register_converters as _register_converters\n",
      "/home/kenn/anaconda3/envs/tf_base/lib/python3.6/site-packages/sklearn/cross_validation.py:41: DeprecationWarning: This module was deprecated in version 0.18 in favor of the model_selection module into which all the refactored classes and functions are moved. Also note that the interface of the new CV iterators are different from that of this module. This module will be removed in 0.20.\n",
      "  \"This module will be removed in 0.20.\", DeprecationWarning)\n"
     ]
    }
   ],
   "source": [
    "import tensorflow as tf\n",
    "from sklearn.datasets import load_digits\n",
    "from sklearn.cross_validation import train_test_split\n",
    "from sklearn.preprocessing import LabelBinarizer"
   ]
  },
  {
   "cell_type": "code",
   "execution_count": 2,
   "metadata": {},
   "outputs": [],
   "source": [
    "digits = load_digits()\n",
    "X = digits.data\n",
    "y = digits.target\n",
    "y = LabelBinarizer().fit_transform(y)\n",
    "X_train, X_test, y_train, y_test = train_test_split(X , y,test_size  = 0.3)"
   ]
  },
  {
   "cell_type": "code",
   "execution_count": 3,
   "metadata": {},
   "outputs": [],
   "source": [
    "input_size = 64\n",
    "output_size = 10\n",
    "norm = False\n",
    "hidden_units1 = 100\n",
    "hidden_units2 = 50"
   ]
  },
  {
   "cell_type": "code",
   "execution_count": 4,
   "metadata": {},
   "outputs": [],
   "source": [
    "def add_layer(inputs, in_size,out_size, n_layer,keep_prob, activation_function=None, BN = False):\n",
    "    layer_name = 'layer_%s' % n_layer\n",
    "    # 把所有内容可视化的时候包含在layer节点内\n",
    "    with tf.name_scope(layer_name):\n",
    "        \n",
    "        with tf.name_scope(\"weights\"):\n",
    "            Weights = tf.Variable(tf.random_normal([in_size, out_size]), name=\"W\") # 权重矩阵 行=输入维度，列=输出维度（下一层输入维度）\n",
    "            # 把参数数据总结到直方图中\n",
    "            tf.summary.histogram(layer_name+\"/weights\", Weights)\n",
    "            \n",
    "        with tf.name_scope(\"biases\"):\n",
    "            biases = tf.Variable(tf.zeros([1,out_size]) + 0.1, name=\"b\")           # 偏置向量 行=1，列=输出维度\n",
    "            tf.summary.histogram(layer_name+\"/biases\", biases)\n",
    "            \n",
    "        with tf.name_scope(\"Wx_plus_b\"):\n",
    "            Wx_plus_b = tf.matmul(inputs, Weights) + biases              # 其实是xW，如果行列定义反过来，这里可以Wx，xW的比较符合数据储存直觉\n",
    "            # 加入dropout，rate由keep_prob决定\n",
    "            Wx_plus_b = tf.nn.dropout(Wx_plus_b, keep_prob)\n",
    "        \n",
    "        #BN\n",
    "        if BN:\n",
    "            with tf.name_scope(\"batch_normalization\"):\n",
    "                # moments求矩估计，均值和方差。axes=[0]表示只在第一个维度（batch）上求均值方差，如果用[0,1,2]就对3个维度求（如图片的batch 长 宽）\n",
    "                fc_mean, fc_var = tf.nn.moments(Wx_plus_b, axes=[0])\n",
    "\n",
    "                # 定义Z=gamma×z+beta的gamma和beta\n",
    "                with tf.name_scope(\"gamma\"):\n",
    "                    scale = tf.Variable(tf.ones([out_size]))\n",
    "                    tf.summary.histogram(layer_name+\"/gamma\", scale)\n",
    "                with tf.name_scope(\"beta\"):\n",
    "                    shift = tf.Variable(tf.zeros([out_size]))\n",
    "                    tf.summary.histogram(layer_name+\"/beta\", shift)\n",
    "                # 防止标准化的时候除0\n",
    "                epsilon = 0.001\n",
    "                \n",
    "                # 指数移动平均\n",
    "                ema = tf.train.ExponentialMovingAverage(decay=0.5)\n",
    "                def mean_var_with_update():\n",
    "                    ema_apply_op = ema.apply([fc_mean, fc_var])\n",
    "                    with tf.control_dependencies([ema_apply_op]):\n",
    "                        return tf.identity(fc_mean), tf.identity(fc_var)\n",
    "                    \n",
    "                mean, var = tf.cond(on_train,\n",
    "                                   mean_var_with_update,\n",
    "                                   lambda:(ema.average(fc_mean),\n",
    "                                          ema.average(fc_var)))\n",
    "                #Wx_plus_b = (Wx_plus_b - fc_mean)/tf.sqrt(fc_var + epsilon)\n",
    "                #Wx_plus_b = Wx_plus_b * scale + shift\n",
    "                #这2步同下一步\n",
    "                Wx_plus_b = tf.nn.batch_normalization(Wx_plus_b, mean, var, shift, scale, epsilon)\n",
    "\n",
    "            \n",
    "        if activation_function is None:\n",
    "            outputs = Wx_plus_b\n",
    "        else:\n",
    "            outputs = activation_function(Wx_plus_b)\n",
    "        tf.summary.histogram(layer_name+\"/outputs\", outputs)\n",
    "        return outputs\n",
    "\n",
    "def compute_accuracy(v_xs, v_ys):\n",
    "    global prediction #先把prediction定义为全局变量\n",
    "    y_pre = sess.run(prediction, feed_dict={xs:v_xs,keep_prob_l1:1, keep_prob_l2:1, on_train:False}) #生成预测值（概率），10分类，所以一个样本是10列概率\n",
    "    correct_prediction = tf.equal(tf.argmax(y_pre,1), tf.argmax(v_ys,1)) #比较概率最大值的位置和真实标签位置是否一样，一样就是true\n",
    "    accuracy = tf.reduce_mean(tf.cast(correct_prediction,tf.float32)) #计算平均正确率\n",
    "    result = sess.run(accuracy, feed_dict={xs:v_xs, ys:v_ys}) #生成正确率\n",
    "    return result\n",
    "\n"
   ]
  },
  {
   "cell_type": "code",
   "execution_count": 5,
   "metadata": {},
   "outputs": [],
   "source": [
    "with tf.name_scope(\"dropout_rate\"):\n",
    "    keep_prob_l1 = tf.placeholder(tf.float32, name=\"dropout_rate_l1\")\n",
    "    keep_prob_l2 = tf.placeholder(tf.float32, name=\"dropout_rate_l2\")\n",
    "    \n",
    "with tf.name_scope(\"inputs\"):\n",
    "    xs = tf.placeholder(tf.float32, [None,input_size], name = \"x_input\") # 输入数据：None不限制样本数，64=8x8,每个样本64个像素点（特征）\n",
    "    ys = tf.placeholder(tf.float32, [None,output_size], name = \"y_input\") # 输出数据：None不限制样本数，10个输出（10分类问题）\n",
    "\n",
    "on_train = tf.placeholder(tf.bool, name = \"on_train\")\n",
    "    \n",
    "if norm:\n",
    "    fc_mean, fc_var = tf.nn.moments(xs, axes=[0])\n",
    "    scale = tf.Variable(tf.ones([input_size]))\n",
    "    shift = tf.Variable(tf.zeros([input_size]))\n",
    "    epsilon = 0.001\n",
    "    xs = tf.nn.batch_normalization(xs, fc_mean, fc_var, shift, scale, epsilon)\n",
    "\n"
   ]
  },
  {
   "cell_type": "code",
   "execution_count": 6,
   "metadata": {},
   "outputs": [],
   "source": [
    "#（隐藏层）：输入为上一层输出=64\n",
    "l1 = add_layer(xs, input_size, hidden_units1, n_layer='l1',keep_prob = keep_prob_l1, activation_function=tf.nn.sigmoid, BN=True)\n",
    "l2 = add_layer(l1, hidden_units1, hidden_units2, n_layer='l2',keep_prob = keep_prob_l2, activation_function=tf.nn.sigmoid, BN=True)\n",
    "#（输出层）：输入为上一层输出=100，输出10\n",
    "prediction = add_layer(l2, hidden_units2, output_size, n_layer='predict', keep_prob=1, activation_function=tf.nn.softmax)\n",
    "    \n",
    "with tf.name_scope(\"corss_entropy\"):\n",
    "    corss_entropy =  tf.reduce_mean(-tf.reduce_sum(ys*tf.log(prediction),reduction_indices=[1]))\n",
    "    tf.summary.scalar(\"corss_entropy\",corss_entropy)\n",
    "    \n",
    "with tf.name_scope(\"train\"):\n",
    "    train_step = tf. train.GradientDescentOptimizer(0.5).minimize(corss_entropy)\n",
    "\n",
    "sess = tf.Session()\n",
    "\n",
    "# 将上述可视化合并\n",
    "merged = tf.summary.merge_all()\n",
    "\n",
    "# 将以上结构写入文件，分为train和test\n",
    "train_writer = tf.summary.FileWriter(\"logs/DNN/train\",sess.graph)\n",
    "test_writer = tf.summary.FileWriter(\"logs/DNN/test\",sess.graph)\n",
    "# 终端激活对应环境后执行 tensorboard --logdi'file:///home/kenn/tensorflow_learning/logs'\n",
    "# localhost:6006看\n",
    "\n"
   ]
  },
  {
   "cell_type": "code",
   "execution_count": 7,
   "metadata": {},
   "outputs": [
    {
     "name": "stdout",
     "output_type": "stream",
     "text": [
      "0.062962964\n",
      "0.8388889\n",
      "0.8981481\n",
      "0.92407405\n",
      "0.93333334\n",
      "0.9388889\n",
      "0.94814813\n",
      "0.95185184\n",
      "0.95185184\n",
      "0.95555556\n",
      "0.95555556\n",
      "0.9574074\n",
      "0.9592593\n",
      "0.9611111\n",
      "0.9592593\n",
      "0.9592593\n",
      "0.962963\n",
      "0.96481484\n",
      "0.96481484\n",
      "0.96481484\n"
     ]
    }
   ],
   "source": [
    "init = tf.global_variables_initializer()\n",
    "sess.run(init)\n",
    "for i in range(10000):\n",
    "    #通过placeholder定义输入的话，都要用feed_dict载入数据，dropout参数也要从这里输入\n",
    "    sess.run(train_step, feed_dict = {xs:X_train, ys:y_train, keep_prob_l1:0.5, keep_prob_l2:0.3, on_train:True})\n",
    "    \n",
    "    if i%500 == 0:\n",
    "        print(compute_accuracy(X_test, y_test))\n",
    "        \n",
    "        #预测的时候droprate为0\n",
    "        train_result = sess.run(merged, feed_dict = {xs:X_train, \n",
    "                                                     ys:y_train, \n",
    "                                                     keep_prob_l1:1, \n",
    "                                                     keep_prob_l2:1,\n",
    "                                                     on_train:False})\n",
    "        test_result = sess.run(merged, feed_dict = {xs:X_test, \n",
    "                                                    ys:y_test, \n",
    "                                                    keep_prob_l1:1, \n",
    "                                                    keep_prob_l2:1,\n",
    "                                                    on_train:False})\n",
    "        \n",
    "        train_writer.add_summary(train_result,i)\n",
    "        test_writer.add_summary(test_result,i)"
   ]
  }
 ],
 "metadata": {
  "kernelspec": {
   "display_name": "Python 3",
   "language": "python",
   "name": "python3"
  },
  "language_info": {
   "codemirror_mode": {
    "name": "ipython",
    "version": 3
   },
   "file_extension": ".py",
   "mimetype": "text/x-python",
   "name": "python",
   "nbconvert_exporter": "python",
   "pygments_lexer": "ipython3",
   "version": "3.6.4"
  }
 },
 "nbformat": 4,
 "nbformat_minor": 2
}
