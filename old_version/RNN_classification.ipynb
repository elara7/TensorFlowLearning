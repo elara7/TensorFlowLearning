{
 "cells": [
  {
   "cell_type": "code",
   "execution_count": 1,
   "metadata": {},
   "outputs": [
    {
     "name": "stderr",
     "output_type": "stream",
     "text": [
      "/home/kenn/anaconda3/envs/tf_base/lib/python3.6/site-packages/h5py/__init__.py:36: FutureWarning: Conversion of the second argument of issubdtype from `float` to `np.floating` is deprecated. In future, it will be treated as `np.float64 == np.dtype(float).type`.\n",
      "  from ._conv import register_converters as _register_converters\n"
     ]
    }
   ],
   "source": [
    "import tensorflow as tf\n",
    "from tensorflow.examples.tutorials.mnist import input_data"
   ]
  },
  {
   "cell_type": "code",
   "execution_count": 2,
   "metadata": {},
   "outputs": [
    {
     "name": "stdout",
     "output_type": "stream",
     "text": [
      "WARNING:tensorflow:From <ipython-input-2-3d8a9d232fa5>:1: read_data_sets (from tensorflow.contrib.learn.python.learn.datasets.mnist) is deprecated and will be removed in a future version.\n",
      "Instructions for updating:\n",
      "Please use alternatives such as official/mnist/dataset.py from tensorflow/models.\n",
      "WARNING:tensorflow:From /home/kenn/anaconda3/envs/tf_base/lib/python3.6/site-packages/tensorflow/contrib/learn/python/learn/datasets/mnist.py:260: maybe_download (from tensorflow.contrib.learn.python.learn.datasets.base) is deprecated and will be removed in a future version.\n",
      "Instructions for updating:\n",
      "Please write your own downloading logic.\n",
      "WARNING:tensorflow:From /home/kenn/anaconda3/envs/tf_base/lib/python3.6/site-packages/tensorflow/contrib/learn/python/learn/datasets/mnist.py:262: extract_images (from tensorflow.contrib.learn.python.learn.datasets.mnist) is deprecated and will be removed in a future version.\n",
      "Instructions for updating:\n",
      "Please use tf.data to implement this functionality.\n",
      "Extracting MNIST_data/train-images-idx3-ubyte.gz\n",
      "WARNING:tensorflow:From /home/kenn/anaconda3/envs/tf_base/lib/python3.6/site-packages/tensorflow/contrib/learn/python/learn/datasets/mnist.py:267: extract_labels (from tensorflow.contrib.learn.python.learn.datasets.mnist) is deprecated and will be removed in a future version.\n",
      "Instructions for updating:\n",
      "Please use tf.data to implement this functionality.\n",
      "Extracting MNIST_data/train-labels-idx1-ubyte.gz\n",
      "WARNING:tensorflow:From /home/kenn/anaconda3/envs/tf_base/lib/python3.6/site-packages/tensorflow/contrib/learn/python/learn/datasets/mnist.py:110: dense_to_one_hot (from tensorflow.contrib.learn.python.learn.datasets.mnist) is deprecated and will be removed in a future version.\n",
      "Instructions for updating:\n",
      "Please use tf.one_hot on tensors.\n",
      "Extracting MNIST_data/t10k-images-idx3-ubyte.gz\n",
      "Extracting MNIST_data/t10k-labels-idx1-ubyte.gz\n",
      "WARNING:tensorflow:From /home/kenn/anaconda3/envs/tf_base/lib/python3.6/site-packages/tensorflow/contrib/learn/python/learn/datasets/mnist.py:290: DataSet.__init__ (from tensorflow.contrib.learn.python.learn.datasets.mnist) is deprecated and will be removed in a future version.\n",
      "Instructions for updating:\n",
      "Please use alternatives such as official/mnist/dataset.py from tensorflow/models.\n"
     ]
    }
   ],
   "source": [
    "mnist = input_data.read_data_sets(\"MNIST_data\",one_hot=True)"
   ]
  },
  {
   "cell_type": "code",
   "execution_count": 3,
   "metadata": {},
   "outputs": [],
   "source": [
    "# 思路：把一行像素作为一个x，把每一行作为一个输入节点，用RNN分类图片\n",
    "# hyperparameters\n",
    "lr = 0.001\n",
    "training_iters = 100000\n",
    "batch_size = 128\n",
    "display_step = 10\n",
    "\n",
    "n_inputs = 28 # 输入的一行的长度（每个输入节点的维度）\n",
    "n_steps = 28 # RNN的长度（输入节点的个数）\n",
    "n_hidden_units = 128\n",
    "n_classes = 10"
   ]
  },
  {
   "cell_type": "code",
   "execution_count": 4,
   "metadata": {},
   "outputs": [],
   "source": [
    "# 输入层\n",
    "x = tf.placeholder(tf.float32, [None,n_steps,n_inputs])\n",
    "y = tf.placeholder(tf.float32, [None,n_classes])"
   ]
  },
  {
   "cell_type": "code",
   "execution_count": 5,
   "metadata": {},
   "outputs": [],
   "source": [
    "# 权重\n",
    "weights = {\n",
    "     #第一层：28x128\n",
    "    \"in\":tf.Variable(tf.random_normal([n_inputs, n_hidden_units]),dtype=tf.float32),\n",
    "    #输出层：128x10\n",
    "    \"out\":tf.Variable(tf.random_normal([n_hidden_units, n_classes]), dtype = tf.float32)\n",
    "}\n",
    "\n",
    "biases = {\n",
    "    \"in\":tf.Variable(tf.constant(0.1,shape=[n_hidden_units]), dtype=tf.float32),\n",
    "    \"out\":tf.Variable(tf.constant(0.1,shape=[n_classes]), dtype = tf.float32)\n",
    "}"
   ]
  },
  {
   "cell_type": "code",
   "execution_count": 6,
   "metadata": {},
   "outputs": [],
   "source": [
    "def RNN(X, weights, biases):\n",
    "    # input ###\n",
    "    \n",
    "    # X.shape = [128 batch, 28 steps, 28 inputs]\n",
    "    X = tf.reshape(X, [-1, n_inputs]) # 把整个batch的128个图片拆分成128x28行，28列。也就是一个X只有1x28\n",
    "    X_in = tf.matmul(X, weights[\"in\"]) + biases[\"in\"] # 计算后把每一行像素扩展为128个隐含单元，得到128x28行，128列\n",
    "    X_in = tf.reshape(X_in, [-1, n_steps, n_hidden_units]) # reshape回来，变成128个样本，每一个样本是28x128的矩阵\n",
    "    \n",
    "    # cell ###\n",
    "    \n",
    "    lstm_cell = tf.nn.rnn_cell.BasicLSTMCell(n_hidden_units, forget_bias=1.0, state_is_tuple=True)\n",
    "    # 初始forget_bias为1，不忘却以前的东西\n",
    "    # state_is_tuple=True 表示以tuple形式生成(c_state,m_state)\n",
    "    _init_state = lstm_cell.zero_state(batch_size, dtype=tf.float32)\n",
    "    \n",
    "    outputs, states = tf.nn.dynamic_rnn(lstm_cell, X_in, initial_state=_init_state, time_major=False)\n",
    "    #time_major=False 时间维度是不是第一个维度，本例中维度定义为batch，step(time),inputs，第二个维度才是时间维度\n",
    "    #states就是最后一个节点的输出\n",
    "    \n",
    "    # final result###\n",
    "    results = tf.matmul(states[1], weights[\"out\"]) + biases[\"out\"]\n",
    "\n",
    "    return results"
   ]
  },
  {
   "cell_type": "code",
   "execution_count": 7,
   "metadata": {},
   "outputs": [
    {
     "name": "stdout",
     "output_type": "stream",
     "text": [
      "WARNING:tensorflow:From <ipython-input-7-c772b9cae2de>:2: softmax_cross_entropy_with_logits (from tensorflow.python.ops.nn_ops) is deprecated and will be removed in a future version.\n",
      "Instructions for updating:\n",
      "\n",
      "Future major versions of TensorFlow will allow gradients to flow\n",
      "into the labels input on backprop by default.\n",
      "\n",
      "See @{tf.nn.softmax_cross_entropy_with_logits_v2}.\n",
      "\n"
     ]
    }
   ],
   "source": [
    "pred = RNN(x,weights,biases)\n",
    "cost = tf.reduce_mean(tf.nn.softmax_cross_entropy_with_logits(logits=pred, labels=y))\n",
    "train_op = tf.train.AdamOptimizer(lr).minimize(cost)"
   ]
  },
  {
   "cell_type": "code",
   "execution_count": 8,
   "metadata": {},
   "outputs": [],
   "source": [
    "correct_pred = tf.equal(tf.argmax(pred,1), tf.argmax(y,1))\n",
    "accuracy = tf.reduce_mean(tf.cast(correct_pred, tf.float32))"
   ]
  },
  {
   "cell_type": "code",
   "execution_count": 10,
   "metadata": {},
   "outputs": [
    {
     "name": "stdout",
     "output_type": "stream",
     "text": [
      "0.1015625\n",
      "0.6875\n",
      "0.78125\n",
      "0.8359375\n",
      "0.8515625\n",
      "0.8515625\n",
      "0.890625\n",
      "0.8515625\n",
      "0.8984375\n",
      "0.9140625\n",
      "0.9140625\n",
      "0.8515625\n",
      "0.9296875\n",
      "0.921875\n",
      "0.9296875\n",
      "0.9296875\n",
      "0.96875\n",
      "0.9375\n",
      "0.96875\n",
      "0.9453125\n",
      "0.953125\n",
      "0.984375\n",
      "0.953125\n",
      "0.9609375\n",
      "0.953125\n",
      "0.953125\n",
      "0.96875\n",
      "0.96875\n",
      "0.9765625\n",
      "0.984375\n",
      "0.9765625\n",
      "0.96875\n",
      "0.96875\n",
      "0.96875\n",
      "0.9765625\n",
      "0.984375\n",
      "0.9609375\n",
      "0.9609375\n",
      "0.984375\n",
      "0.9765625\n"
     ]
    }
   ],
   "source": [
    "init = tf.global_variables_initializer()\n",
    "with tf.Session() as sess:\n",
    "    sess.run(init)\n",
    "    step = 0\n",
    "    while step * batch_size < training_iters:\n",
    "        batch_xs, batch_ys = mnist.train.next_batch(batch_size)\n",
    "        batch_xs = batch_xs.reshape([batch_size, n_steps, n_inputs])\n",
    "        #x_image = tf.reshape(xs,[-1,28,28]) 也可以在placeholder下定义reshape\n",
    "        sess.run(train_op, feed_dict = {x:batch_xs, y:batch_ys})\n",
    "        if step % 20 == 0:\n",
    "            print(sess.run(accuracy, feed_dict = {x:batch_xs, y:batch_ys}))\n",
    "        step+=1"
   ]
  }
 ],
 "metadata": {
  "kernelspec": {
   "display_name": "Python 3",
   "language": "python",
   "name": "python3"
  },
  "language_info": {
   "codemirror_mode": {
    "name": "ipython",
    "version": 3
   },
   "file_extension": ".py",
   "mimetype": "text/x-python",
   "name": "python",
   "nbconvert_exporter": "python",
   "pygments_lexer": "ipython3",
   "version": "3.6.4"
  }
 },
 "nbformat": 4,
 "nbformat_minor": 2
}
