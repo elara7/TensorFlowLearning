{
 "cells": [
  {
   "cell_type": "code",
   "execution_count": 1,
   "metadata": {},
   "outputs": [
    {
     "name": "stderr",
     "output_type": "stream",
     "text": [
      "/home/kenn/anaconda3/envs/tf_base/lib/python3.6/site-packages/h5py/__init__.py:36: FutureWarning: Conversion of the second argument of issubdtype from `float` to `np.floating` is deprecated. In future, it will be treated as `np.float64 == np.dtype(float).type`.\n",
      "  from ._conv import register_converters as _register_converters\n"
     ]
    }
   ],
   "source": [
    "import tensorflow as tf\n",
    "import numpy as np\n",
    "import matplotlib.pyplot as  plt"
   ]
  },
  {
   "cell_type": "code",
   "execution_count": 2,
   "metadata": {},
   "outputs": [],
   "source": [
    "BATCH_START = 0\n",
    "TIME_STEPS = 20\n",
    "BATCH_SIZE = 50\n",
    "INPUT_SIZE = 1\n",
    "OUTPUT_SIZE = 1\n",
    "CELL_SIZE = 10\n",
    "LR = 0.006\n",
    "BATCH_START_TEST = 0"
   ]
  },
  {
   "cell_type": "code",
   "execution_count": 3,
   "metadata": {},
   "outputs": [],
   "source": [
    "def get_batch():\n",
    "    global BATCH_START, TIME_STEPS\n",
    "    # xs.shape = [50 batch, 20 steps]\n",
    "    xs = np.arange(BATCH_START, BATCH_START + TIME_STEPS*BATCH_SIZE).reshape([BATCH_SIZE,TIME_STEPS])/(10*np.pi)\n",
    "    seq = np.sin(xs)\n",
    "    res = np.cos(xs)\n",
    "    BATCH_START += TIME_STEPS\n",
    "    return [seq[:,:,np.newaxis], res[:,:,np.newaxis],xs]"
   ]
  },
  {
   "cell_type": "code",
   "execution_count": 4,
   "metadata": {},
   "outputs": [],
   "source": [
    "class LSTMRNN(object):\n",
    "    def __init__(self, n_steps, input_size, output_size, cell_size, batch_size):\n",
    "        self.n_steps = n_steps\n",
    "        self.input_size = input_size\n",
    "        self.output_size = output_size\n",
    "        self.cell_size = cell_size\n",
    "        self.batch_size = batch_size\n",
    "        with tf.name_scope(\"input\"):\n",
    "            self.xs = tf.placeholder(tf.float32, [None, n_steps, input_size], name='xs')\n",
    "            self.ys = tf.placeholder(tf.float32, [None, n_steps, output_size], name='ys')\n",
    "        with tf.variable_scope(\"in_hidden\"):\n",
    "            self.add_input_layer()\n",
    "        with tf.variable_scope(\"LSTM_cell\"):\n",
    "            self.add_cell()\n",
    "        with tf.variable_scope(\"out_hidden\"):\n",
    "            self.add_output_layer()\n",
    "        with tf.name_scope(\"cost\"):\n",
    "            self.compute_cost()\n",
    "        with tf.name_scope(\"train\"):\n",
    "            self.train_op = tf.train.AdamOptimizer(LR).minimize(self.cost)\n",
    "    def add_input_layer(self):\n",
    "        l_in_x = tf.reshape(self.xs, [-1, self.input_size], name = \"2_2D\") #to 2D\n",
    "        Ws_in = self._weight_variable([self.input_size,self.cell_size])\n",
    "        bs_in = self._bias_variable([self.cell_size])\n",
    "        with tf.name_scope(\"Wx_plus_b\"):\n",
    "            l_in_y = tf.matmul(l_in_x, Ws_in) + bs_in\n",
    "        self.l_in_y = tf.reshape(l_in_y,[-1,self.n_steps, self.cell_size],name=\"2_3D\") #to 3D\n",
    "        \n",
    "    def add_cell(self):\n",
    "        lstm_cell = tf.nn.rnn_cell.BasicLSTMCell(self.cell_size,forget_bias=1.0,state_is_tuple=True)\n",
    "        with tf.name_scope(\"initial_state\"):\n",
    "            self.cell_init_state = lstm_cell.zero_state(self.batch_size,dtype=tf.float32)\n",
    "        self.cell_outputs, self.cell_final_state = tf.nn.dynamic_rnn(lstm_cell, self.l_in_y, \n",
    "                                                                     initial_state=self.cell_init_state, \n",
    "                                                                    time_major=False)\n",
    "        \n",
    "    def add_output_layer(self):\n",
    "        l_out_x = tf.reshape(self.cell_outputs, [-1, self.cell_size], name = \"2_2D\") #to 2D\n",
    "        Ws_out = self._weight_variable([self.cell_size,self.output_size])\n",
    "        bs_out = self._bias_variable([self.output_size])\n",
    "        with tf.name_scope(\"Wx_plus_b\"):\n",
    "            self.pred = tf.matmul(l_out_x, Ws_out) + bs_out\n",
    "        \n",
    "        \n",
    "    def compute_cost(self):\n",
    "        losses = tf.contrib.legacy_seq2seq.sequence_loss_by_example(\n",
    "            [tf.reshape(self.pred,[-1],name = \"reshape_pred\")],\n",
    "            [tf.reshape(self.ys, [-1],name = \"reshape_target\")],\n",
    "            [tf.ones([self.batch_size*self.n_steps], dtype=tf.float32)],\n",
    "            average_across_timesteps=True,\n",
    "            softmax_loss_function=self.ms_error,\n",
    "            name = \"losses\")\n",
    "        with tf.name_scope(\"average_cost\"):\n",
    "            self.cost = tf.div(tf.reduce_sum(losses, name='losses_sum'),\n",
    "                              tf.cast(self.batch_size,tf.float32),\n",
    "                              name=\"average_cost\")\n",
    "            tf.summary.scalar(\"cost\",self.cost)\n",
    "            \n",
    "    def ms_error(self,logits ,labels ):\n",
    "        return tf.square((logits - labels))\n",
    "    \n",
    "    def _weight_variable(self, shape, name=\"weights\"):\n",
    "        initializer = tf.random_normal_initializer(mean = 0, stddev=1.0)\n",
    "        return tf.get_variable(shape=shape, initializer=initializer, name=name)\n",
    "    \n",
    "    def _bias_variable(self, shape, name=\"biases\"):\n",
    "        initializer = tf.constant_initializer(0.1)\n",
    "        return tf.get_variable(name=name, shape=shape, initializer=initializer)"
   ]
  },
  {
   "cell_type": "code",
   "execution_count": 5,
   "metadata": {},
   "outputs": [],
   "source": [
    "model = LSTMRNN(TIME_STEPS,INPUT_SIZE,OUTPUT_SIZE,CELL_SIZE,BATCH_SIZE)\n",
    "sess = tf.Session()\n",
    "merged = tf.summary.merge_all()\n",
    "writer = tf.summary.FileWriter(\"logs/RNN_reg/\",sess.graph)"
   ]
  },
  {
   "cell_type": "code",
   "execution_count": 6,
   "metadata": {},
   "outputs": [],
   "source": [
    "sess.run(tf.global_variables_initializer())"
   ]
  },
  {
   "cell_type": "code",
   "execution_count": 7,
   "metadata": {},
   "outputs": [
    {
     "name": "stdout",
     "output_type": "stream",
     "text": [
      "Using matplotlib backend: Qt5Agg\n",
      "cost 14.0873\n",
      "cost 4.3243\n",
      "cost 2.1872\n",
      "cost 2.46\n",
      "cost 0.1764\n",
      "cost 0.2817\n",
      "cost 0.1693\n",
      "cost 0.5461\n",
      "cost 0.7643\n",
      "cost 0.7786\n"
     ]
    }
   ],
   "source": [
    "%matplotlib\n",
    "plt.ion()\n",
    "plt.show()\n",
    "for i in range(200):\n",
    "    seq,res,xs = get_batch()\n",
    "    if i == 0:\n",
    "        feed_dict = {model.xs:seq, model.ys:res}\n",
    "    else:\n",
    "        feed_dict = {model.xs:seq, model.ys:res, model.cell_init_state:state}\n",
    "    \n",
    "    _,cost,state,pred = sess.run([model.train_op,model.cost,model.cell_final_state,model.pred],\n",
    "                                feed_dict=feed_dict)\n",
    "    plt.plot(xs[0,:], res[0].flatten(),'r',\n",
    "             xs[0,:], pred.flatten()[:TIME_STEPS],'b--')\n",
    "    plt.ylim((-1.2,1.2))\n",
    "    plt.draw()\n",
    "    plt.pause(0.1)\n",
    "    \n",
    "    if i%20 ==0:\n",
    "        print('cost',round(cost,4))\n",
    "        result = sess.run(merged,feed_dict)\n",
    "        writer.add_summary(result,i)"
   ]
  },
  {
   "cell_type": "code",
   "execution_count": null,
   "metadata": {},
   "outputs": [],
   "source": [
    "\n",
    "    "
   ]
  }
 ],
 "metadata": {
  "kernelspec": {
   "display_name": "Python 3",
   "language": "python",
   "name": "python3"
  },
  "language_info": {
   "codemirror_mode": {
    "name": "ipython",
    "version": 3
   },
   "file_extension": ".py",
   "mimetype": "text/x-python",
   "name": "python",
   "nbconvert_exporter": "python",
   "pygments_lexer": "ipython3",
   "version": "3.6.4"
  }
 },
 "nbformat": 4,
 "nbformat_minor": 2
}
