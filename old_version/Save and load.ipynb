{
 "cells": [
  {
   "cell_type": "code",
   "execution_count": 1,
   "metadata": {},
   "outputs": [
    {
     "name": "stderr",
     "output_type": "stream",
     "text": [
      "/home/kenn/anaconda3/envs/tf_base/lib/python3.6/site-packages/h5py/__init__.py:36: FutureWarning: Conversion of the second argument of issubdtype from `float` to `np.floating` is deprecated. In future, it will be treated as `np.float64 == np.dtype(float).type`.\n",
      "  from ._conv import register_converters as _register_converters\n"
     ]
    }
   ],
   "source": [
    "import tensorflow as tf\n",
    "import numpy as np"
   ]
  },
  {
   "cell_type": "code",
   "execution_count": 2,
   "metadata": {},
   "outputs": [
    {
     "name": "stdout",
     "output_type": "stream",
     "text": [
      "[[1. 2. 3.]\n",
      " [3. 4. 5.]]\n",
      "[[1. 2. 3.]]\n",
      "Save to path: logs/my_net/save_net.ckpt\n"
     ]
    }
   ],
   "source": [
    "with tf.Session() as sess:\n",
    "    W = tf.Variable([[1,2,3],\n",
    "                 [3,4,5]],dtype = tf.float32, name=\"weights\")\n",
    "    b = tf.Variable([[1,2,3]],dtype = tf.float32, name=\"biases\")\n",
    "    init = tf.global_variables_initializer()\n",
    "    saver = tf.train.Saver()\n",
    "    sess.run(init)\n",
    "    print(sess.run(W))\n",
    "    print(sess.run(b))\n",
    "    save_path = saver.save(sess,\"logs/my_net/save_net.ckpt\")\n",
    "    print(\"Save to path:\", save_path)"
   ]
  },
  {
   "cell_type": "code",
   "execution_count": null,
   "metadata": {},
   "outputs": [],
   "source": [
    "# 读取的时候需要定义一样的shape和dtype"
   ]
  },
  {
   "cell_type": "code",
   "execution_count": 3,
   "metadata": {},
   "outputs": [
    {
     "name": "stdout",
     "output_type": "stream",
     "text": [
      "[[0. 0. 0.]\n",
      " [0. 0. 0.]]\n",
      "[[0. 0. 0.]]\n"
     ]
    }
   ],
   "source": [
    "with tf.Session() as sess:\n",
    "    W = tf.Variable(tf.zeros([2,3]),dtype = tf.float32, name=\"weights\")\n",
    "    b = tf.Variable(tf.zeros([1,3]),dtype = tf.float32, name=\"biases\")\n",
    "    init = tf.global_variables_initializer()\n",
    "    sess.run(init)\n",
    "    print(sess.run(W))\n",
    "    print(sess.run(b))"
   ]
  },
  {
   "cell_type": "code",
   "execution_count": 6,
   "metadata": {},
   "outputs": [
    {
     "name": "stdout",
     "output_type": "stream",
     "text": [
      "INFO:tensorflow:Restoring parameters from logs/my_net/save_net.ckpt\n",
      "weights: [[1. 2. 3.]\n",
      " [3. 4. 5.]]\n",
      "weights: [[1. 2. 3.]]\n"
     ]
    }
   ],
   "source": [
    "tf.reset_default_graph()\n",
    "with tf.Session() as sess:\n",
    "    W = tf.Variable(tf.zeros([2,3]),dtype = tf.float32, name=\"weights\")\n",
    "    b = tf.Variable(tf.zeros([1,3]),dtype = tf.float32, name=\"biases\")\n",
    "    saver = tf.train.Saver()\n",
    "    saver.restore(sess, \"logs/Save and load/save_net.ckpt\")\n",
    "    print(\"weights:\", sess.run(W))\n",
    "    print(\"weights:\", sess.run(b))\n",
    "    \n",
    "    "
   ]
  },
  {
   "cell_type": "code",
   "execution_count": null,
   "metadata": {},
   "outputs": [],
   "source": []
  }
 ],
 "metadata": {
  "kernelspec": {
   "display_name": "Python 3",
   "language": "python",
   "name": "python3"
  },
  "language_info": {
   "codemirror_mode": {
    "name": "ipython",
    "version": 3
   },
   "file_extension": ".py",
   "mimetype": "text/x-python",
   "name": "python",
   "nbconvert_exporter": "python",
   "pygments_lexer": "ipython3",
   "version": "3.6.4"
  }
 },
 "nbformat": 4,
 "nbformat_minor": 2
}
