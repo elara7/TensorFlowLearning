{
 "cells": [
  {
   "cell_type": "code",
   "execution_count": 1,
   "metadata": {},
   "outputs": [
    {
     "name": "stderr",
     "output_type": "stream",
     "text": [
      "/home/kenn/anaconda3/envs/tf_base/lib/python3.6/site-packages/h5py/__init__.py:36: FutureWarning: Conversion of the second argument of issubdtype from `float` to `np.floating` is deprecated. In future, it will be treated as `np.float64 == np.dtype(float).type`.\n",
      "  from ._conv import register_converters as _register_converters\n"
     ]
    }
   ],
   "source": [
    "import tensorflow as tf\n",
    "import numpy as np\n",
    "from tensorflow.examples.tutorials.mnist import input_data"
   ]
  },
  {
   "cell_type": "code",
   "execution_count": 2,
   "metadata": {},
   "outputs": [
    {
     "name": "stdout",
     "output_type": "stream",
     "text": [
      "WARNING:tensorflow:From <ipython-input-2-3d8a9d232fa5>:1: read_data_sets (from tensorflow.contrib.learn.python.learn.datasets.mnist) is deprecated and will be removed in a future version.\n",
      "Instructions for updating:\n",
      "Please use alternatives such as official/mnist/dataset.py from tensorflow/models.\n",
      "WARNING:tensorflow:From /home/kenn/anaconda3/envs/tf_base/lib/python3.6/site-packages/tensorflow/contrib/learn/python/learn/datasets/mnist.py:260: maybe_download (from tensorflow.contrib.learn.python.learn.datasets.base) is deprecated and will be removed in a future version.\n",
      "Instructions for updating:\n",
      "Please write your own downloading logic.\n",
      "WARNING:tensorflow:From /home/kenn/anaconda3/envs/tf_base/lib/python3.6/site-packages/tensorflow/contrib/learn/python/learn/datasets/mnist.py:262: extract_images (from tensorflow.contrib.learn.python.learn.datasets.mnist) is deprecated and will be removed in a future version.\n",
      "Instructions for updating:\n",
      "Please use tf.data to implement this functionality.\n",
      "Extracting MNIST_data/train-images-idx3-ubyte.gz\n",
      "WARNING:tensorflow:From /home/kenn/anaconda3/envs/tf_base/lib/python3.6/site-packages/tensorflow/contrib/learn/python/learn/datasets/mnist.py:267: extract_labels (from tensorflow.contrib.learn.python.learn.datasets.mnist) is deprecated and will be removed in a future version.\n",
      "Instructions for updating:\n",
      "Please use tf.data to implement this functionality.\n",
      "Extracting MNIST_data/train-labels-idx1-ubyte.gz\n",
      "WARNING:tensorflow:From /home/kenn/anaconda3/envs/tf_base/lib/python3.6/site-packages/tensorflow/contrib/learn/python/learn/datasets/mnist.py:110: dense_to_one_hot (from tensorflow.contrib.learn.python.learn.datasets.mnist) is deprecated and will be removed in a future version.\n",
      "Instructions for updating:\n",
      "Please use tf.one_hot on tensors.\n",
      "Extracting MNIST_data/t10k-images-idx3-ubyte.gz\n",
      "Extracting MNIST_data/t10k-labels-idx1-ubyte.gz\n",
      "WARNING:tensorflow:From /home/kenn/anaconda3/envs/tf_base/lib/python3.6/site-packages/tensorflow/contrib/learn/python/learn/datasets/mnist.py:290: DataSet.__init__ (from tensorflow.contrib.learn.python.learn.datasets.mnist) is deprecated and will be removed in a future version.\n",
      "Instructions for updating:\n",
      "Please use alternatives such as official/mnist/dataset.py from tensorflow/models.\n"
     ]
    }
   ],
   "source": [
    "mnist = input_data.read_data_sets(\"MNIST_data\",one_hot=True)"
   ]
  },
  {
   "cell_type": "code",
   "execution_count": 3,
   "metadata": {},
   "outputs": [
    {
     "name": "stdout",
     "output_type": "stream",
     "text": [
      "0.0511\n",
      "0.6441\n",
      "0.7483\n",
      "0.7908\n",
      "0.809\n",
      "0.825\n",
      "0.8366\n",
      "0.8457\n",
      "0.852\n",
      "0.8487\n",
      "0.8576\n",
      "0.8635\n",
      "0.8634\n",
      "0.8663\n",
      "0.869\n",
      "0.8686\n",
      "0.8726\n",
      "0.8746\n",
      "0.8739\n",
      "0.8776\n"
     ]
    }
   ],
   "source": [
    "def add_layer(inputs, in_size,out_size, n_layer, activation_function=None):\n",
    "    layer_name = 'layer%s' % n_layer\n",
    "    # 把所有内容可视化的时候包含在layer节点内\n",
    "    with tf.name_scope(\"layer\"):\n",
    "        with tf.name_scope(\"weights\"):\n",
    "            Weights = tf.Variable(tf.random_normal([in_size, out_size]), name=\"W\") # 权重矩阵 行=输入维度，列=输出维度（下一层输入维度）\n",
    "            # 把参数数据总结到直方图中\n",
    "            tf.summary.histogram(layer_name+\"/weights\", Weights)\n",
    "        with tf.name_scope(\"biases\"):\n",
    "            biases = tf.Variable(tf.zeros([1,out_size]) + 0.1, name=\"b\")           # 偏置向量 行=1，列=输出维度\n",
    "            tf.summary.histogram(layer_name+\"/biases\", biases)\n",
    "        with tf.name_scope(\"Wx_plus_b\"):\n",
    "            Wx_plus_b = tf.matmul(inputs, Weights) + biases              # 其实是xW，如果行列定义反过来，这里可以Wx，xW的比较符合数据储存直觉\n",
    "        if activation_function is None:\n",
    "            outputs = Wx_plus_b\n",
    "        else:\n",
    "            outputs = activation_function(Wx_plus_b)\n",
    "        tf.summary.histogram(layer_name+\"/outputs\", outputs)\n",
    "        return outputs\n",
    "\n",
    "def compute_accuracy(v_xs, v_ys):\n",
    "    global prediction #先把prediction定义为全局变量\n",
    "    y_pre = sess.run(prediction, feed_dict={xs:v_xs}) #生成预测值（概率），10分类，所以一个样本是10列概率\n",
    "    correct_prediction = tf.equal(tf.argmax(y_pre,1), tf.argmax(v_ys,1)) #比较概率最大值的位置和真实标签位置是否一样，一样就是true\n",
    "    accuracy = tf.reduce_mean(tf.cast(correct_prediction,tf.float32)) #计算平均正确率\n",
    "    result = sess.run(accuracy, feed_dict={xs:v_xs, ys:v_ys}) #生成正确率\n",
    "    return result\n",
    "#输入神经元：784个，输出神经元10个\n",
    "#输入层: None行,784列。None表示这个维度不固定，此即样本数\n",
    "#placeholder里面需要定义dtype，否则报错\n",
    "#name是可视化的时候显示的节点名称\n",
    "#name_scope(\"inputs\")把2个input合并为一个输入节点\n",
    "with tf.name_scope(\"inputs\"):\n",
    "    xs = tf.placeholder(tf.float32, [None,784], name = \"x_input\") # 输入数据：None不限制样本数，784=28x28,每个样本784个像素点（特征）\n",
    "    ys = tf.placeholder(tf.float32, [None,10], name = \"y_input\") # 输出数据：None不限制样本数，10个输出（10分类问题）\n",
    "\n",
    "#（输出层）：输入为上一层输出=784，输出1,激活函数为softmax！！\n",
    "prediction = add_layer(xs, 784, 10, n_layer=1, activation_function=tf.nn.softmax)\n",
    "\n",
    "#交叉熵损失\n",
    "with tf.name_scope(\"corss_entropy\"):\n",
    "    corss_entropy =  tf.reduce_mean(-tf.reduce_sum(ys*tf.log(prediction),reduction_indices=[1]))\n",
    "    tf.summary.scalar(\"corss_entropy\",corss_entropy)\n",
    "    \n",
    "with tf.name_scope(\"train\"):\n",
    "    train_step = tf. train.GradientDescentOptimizer(0.5).minimize(corss_entropy)\n",
    "    \n",
    "sess = tf.Session()\n",
    "# 将上述可视化合并\n",
    "merged = tf.summary.merge_all()\n",
    "# 将以上结构写入文件\n",
    "writer = tf.summary.FileWriter(\"logs/classification\",sess.graph)\n",
    "# 终端激活对应环境后执行 tensorboard --logdi'file:///home/kenn/tensorflow_learning/logs'\n",
    "# localhost:6006看\n",
    "init = tf.global_variables_initializer()\n",
    "sess.run(init)\n",
    "for i in range(1000):\n",
    "    batch_xs,batch_ys = mnist.train.next_batch(100)\n",
    "    #通过placeholder定义输入的话，都要用feed_dict载入数据\n",
    "    sess.run(train_step, feed_dict = {xs:batch_xs, ys:batch_ys})\n",
    "    if i%50 == 0:\n",
    "        print(compute_accuracy(mnist.test.images, mnist.test.labels))\n",
    "        result = sess.run(merged, feed_dict = {xs:batch_xs, ys:batch_ys})\n",
    "        writer.add_summary(result,i)"
   ]
  }
 ],
 "metadata": {
  "kernelspec": {
   "display_name": "Python 3",
   "language": "python",
   "name": "python3"
  },
  "language_info": {
   "codemirror_mode": {
    "name": "ipython",
    "version": 3
   },
   "file_extension": ".py",
   "mimetype": "text/x-python",
   "name": "python",
   "nbconvert_exporter": "python",
   "pygments_lexer": "ipython3",
   "version": "3.6.4"
  }
 },
 "nbformat": 4,
 "nbformat_minor": 2
}
