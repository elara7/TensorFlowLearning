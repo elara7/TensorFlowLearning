{
 "cells": [
  {
   "cell_type": "code",
   "execution_count": 1,
   "metadata": {},
   "outputs": [
    {
     "name": "stderr",
     "output_type": "stream",
     "text": [
      "/home/kenn/anaconda3/envs/tf_base/lib/python3.6/site-packages/h5py/__init__.py:36: FutureWarning: Conversion of the second argument of issubdtype from `float` to `np.floating` is deprecated. In future, it will be treated as `np.float64 == np.dtype(float).type`.\n",
      "  from ._conv import register_converters as _register_converters\n"
     ]
    }
   ],
   "source": [
    "import tensorflow as tf\n",
    "import numpy as np\n",
    "import matplotlib.pyplot as plt"
   ]
  },
  {
   "cell_type": "code",
   "execution_count": 2,
   "metadata": {},
   "outputs": [],
   "source": [
    "# 一列，300行\n",
    "x_data = np.linspace(-1,1,300)[:,np.newaxis]\n",
    "# 噪声\n",
    "noise = np.random.normal(0,0.05,x_data.shape)\n",
    "# y\n",
    "y_data = np.square(x_data) - 0.5 + noise"
   ]
  },
  {
   "cell_type": "code",
   "execution_count": 3,
   "metadata": {},
   "outputs": [],
   "source": [
    "def add_layer(inputs, in_size,out_size, n_layer, activation_function=None):\n",
    "    layer_name = 'layer%s' % n_layer\n",
    "    # 把所有内容可视化的时候包含在layer节点内\n",
    "    with tf.name_scope(\"layer\"):\n",
    "        with tf.name_scope(\"weights\"):\n",
    "            Weights = tf.Variable(tf.random_normal([in_size, out_size]), name=\"W\") # 权重矩阵 行=输入维度，列=输出维度（下一层输入维度）\n",
    "            # 把参数数据总结到直方图中\n",
    "            tf.summary.histogram(layer_name+\"/weights\", Weights)\n",
    "        with tf.name_scope(\"biases\"):\n",
    "            biases = tf.Variable(tf.zeros([1,out_size]) + 0.1, name=\"b\")           # 偏置向量 行=1，列=输出维度\n",
    "            tf.summary.histogram(layer_name+\"/biases\", biases)\n",
    "        with tf.name_scope(\"Wx_plus_b\"):\n",
    "            Wx_plus_b = tf.matmul(inputs, Weights) + biases              # 其实是xW，如果行列定义反过来，这里可以Wx，xW的比较符合数据储存直觉\n",
    "        if activation_function is None:\n",
    "            outputs = Wx_plus_b\n",
    "        else:\n",
    "            outputs = activation_function(Wx_plus_b)\n",
    "        tf.summary.histogram(layer_name+\"/outputs\", outputs)\n",
    "        return outputs\n",
    "\n",
    "#输入神经元：1个，隐藏10个，输出神经元1个\n",
    "#输入层: None行,1列。None表示这个维度不固定，此即样本数\n",
    "#placeholder里面需要定义dtype，否则报错\n",
    "#name是可视化的时候显示的节点名称\n",
    "#name_scope(\"inputs\")把2个input合并为一个输入节点\n",
    "with tf.name_scope(\"inputs\"):\n",
    "    xs = tf.placeholder(tf.float32, [None,1], name = \"x_input\")\n",
    "    ys = tf.placeholder(tf.float32, [None,1], name = \"y_input\")\n",
    "#第一层（隐藏层1）：输入1，输出10，用relu\n",
    "l1 = add_layer(xs, 1, 10, n_layer=1, activation_function=tf.nn.sigmoid)\n",
    "#第二层（输出层）：输入为上一层输出=10，输出1,\n",
    "prediction = add_layer(l1, 10, 1, n_layer=2)\n",
    "\n",
    "#均方误差\n",
    "with tf.name_scope(\"loss\"):\n",
    "    loss =  tf.reduce_mean(tf.reduce_sum(tf.square(ys - prediction, \n",
    "                                                   name=\"square\"),reduction_indices=[1],\n",
    "                                         name=\"sum\"),\n",
    "                           name=\"mean\")\n",
    "    tf.summary.scalar(\"loss\",loss)\n",
    "    \n",
    "with tf.name_scope(\"train\"):\n",
    "    train_step = tf. train.GradientDescentOptimizer(0.1).minimize(loss)\n",
    "    \n",
    "sess = tf.Session()\n",
    "# 将上述可视化合并\n",
    "merged = tf.summary.merge_all()\n",
    "# 将以上结构写入文件\n",
    "writer = tf.summary.FileWriter(\"logs/simple_NN\",sess.graph)\n",
    "# 终端激活对应环境后执行 tensorboard --logdi'file:///home/kenn/tensorflow_learning/logs'\n",
    "# localhost:6006看\n",
    "init = tf.global_variables_initializer()\n",
    "sess.run(init)\n",
    "for i in range(10000):\n",
    "    #通过placeholder定义输入的话，都要用feed_dict载入数据\n",
    "    sess.run(train_step, feed_dict = {xs:x_data, ys:y_data})\n",
    "    if i%50 == 0:\n",
    "        result = sess.run(merged, feed_dict = {xs:x_data, ys:y_data})\n",
    "        writer.add_summary(result,i)"
   ]
  },
  {
   "cell_type": "code",
   "execution_count": null,
   "metadata": {},
   "outputs": [],
   "source": []
  },
  {
   "cell_type": "code",
   "execution_count": null,
   "metadata": {},
   "outputs": [],
   "source": [
    "fig = plt.figure()\n",
    "ax = fig.add_subplot(1,1,1)\n",
    "ax.scatter(x_data,y_data)"
   ]
  },
  {
   "cell_type": "code",
   "execution_count": null,
   "metadata": {},
   "outputs": [],
   "source": [
    "%matplotlib\n",
    "fig = plt.figure()\n",
    "ax = fig.add_subplot(1,1,1)\n",
    "ax.scatter(x_data,y_data)\n",
    "plt.ion()\n",
    "plt.show()\n",
    "sess.run(init)\n",
    "for i in range(10000):\n",
    "    #通过placeholder定义输入的话，都要用feed_dict载入数据\n",
    "    sess.run(train_step, feed_dict = {xs:x_data, ys:y_data})\n",
    "    if i%50 == 0:\n",
    "        #print(sess.run(loss,feed_dict = {xs:x_data, ys:y_data}))\n",
    "        try:\n",
    "            ax.lines.remove(lines[0])\n",
    "        except Exception:\n",
    "            pass\n",
    "        prediction_value = sess.run(prediction, feed_dict = {xs:x_data, ys:y_data})\n",
    "        lines = ax.plot(x_data, prediction_value,'r-',lw=5)\n",
    "        plt.pause(0.1)"
   ]
  }
 ],
 "metadata": {
  "kernelspec": {
   "display_name": "Python 3",
   "language": "python",
   "name": "python3"
  },
  "language_info": {
   "codemirror_mode": {
    "name": "ipython",
    "version": 3
   },
   "file_extension": ".py",
   "mimetype": "text/x-python",
   "name": "python",
   "nbconvert_exporter": "python",
   "pygments_lexer": "ipython3",
   "version": "3.6.4"
  }
 },
 "nbformat": 4,
 "nbformat_minor": 2
}
