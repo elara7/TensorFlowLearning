{
 "cells": [
  {
   "cell_type": "code",
   "execution_count": 1,
   "metadata": {},
   "outputs": [
    {
     "name": "stderr",
     "output_type": "stream",
     "text": [
      "/home/kenn/anaconda3/envs/tf_base/lib/python3.6/site-packages/h5py/__init__.py:36: FutureWarning: Conversion of the second argument of issubdtype from `float` to `np.floating` is deprecated. In future, it will be treated as `np.float64 == np.dtype(float).type`.\n",
      "  from ._conv import register_converters as _register_converters\n"
     ]
    }
   ],
   "source": [
    "import numpy as np\n",
    "import tensorflow as tf\n",
    "import matplotlib.pyplot as plt\n",
    "from mpl_toolkits.mplot3d import Axes3D"
   ]
  },
  {
   "cell_type": "code",
   "execution_count": 2,
   "metadata": {},
   "outputs": [],
   "source": [
    "LR = 0.1 \n",
    "REAL_PARAMS = [1.2, 2.5]\n",
    "INIT_PARAMS = [[5, 4],[5, 1],[2, 4.5]][2]\n",
    "\n",
    "x = np.linspace(-1,1,200,dtype=np.float32)"
   ]
  },
  {
   "cell_type": "code",
   "execution_count": 3,
   "metadata": {},
   "outputs": [],
   "source": [
    "#y_fun = lambda a, b: a*x**3+b*x**2\n",
    "#tf_y_fun = lambda a, b: a*x**3+b*x**2\n",
    "y_fun = lambda a, b: np.sin(b*np.cos(a*x))\n",
    "tf_y_fun = lambda a, b: tf.sin(b*tf.cos(a*x))"
   ]
  },
  {
   "cell_type": "code",
   "execution_count": 4,
   "metadata": {},
   "outputs": [],
   "source": [
    "noise = np.random.randn(200)/10\n",
    "y = y_fun(*REAL_PARAMS) + noise"
   ]
  },
  {
   "cell_type": "code",
   "execution_count": 5,
   "metadata": {},
   "outputs": [],
   "source": [
    "a,b = [tf.Variable(initial_value=p, dtype=tf.float32) for p in INIT_PARAMS]\n",
    "pred = tf_y_fun(a,b)\n",
    "mse = tf.losses.mean_squared_error(labels= y, predictions = pred)\n",
    "train_op = tf.train.GradientDescentOptimizer(LR).minimize(mse)\n",
    "#train_op = tf.train.AdamOptimizer(LR).minimize(mse)"
   ]
  },
  {
   "cell_type": "code",
   "execution_count": 6,
   "metadata": {},
   "outputs": [],
   "source": [
    "a_list, b_list, cost_list = [], [], []\n",
    "with tf.Session() as sess:\n",
    "    sess.run(tf.global_variables_initializer())\n",
    "    for t in range(10000):\n",
    "        a_, b_, mse_ = sess.run([a, b, mse])\n",
    "        a_list.append(a_)\n",
    "        b_list.append(b_)\n",
    "        cost_list.append(mse_)\n",
    "        result,_ = sess.run([pred, train_op])"
   ]
  },
  {
   "cell_type": "code",
   "execution_count": 7,
   "metadata": {},
   "outputs": [
    {
     "name": "stdout",
     "output_type": "stream",
     "text": [
      "Using matplotlib backend: Qt5Agg\n",
      "a= 1.1810184 b= 2.4880457\n"
     ]
    }
   ],
   "source": [
    "%matplotlib\n",
    "print('a=', a_, 'b=', b_)\n",
    "plt.figure(1)\n",
    "plt.scatter(x, y, c='b')    # plot data\n",
    "plt.plot(x, result, 'r-', lw=2)   # plot line fitting\n",
    "# 3D cost figure\n",
    "fig = plt.figure(2); ax = Axes3D(fig)\n",
    "a3D, b3D = np.meshgrid(np.linspace(-2, 7, 30), np.linspace(-2, 7, 30))  # parameter space\n",
    "cost3D = np.array([np.mean(np.square(y_fun(a_, b_) - y)) for a_, b_ in zip(a3D.flatten(), b3D.flatten())]).reshape(a3D.shape)\n",
    "ax.plot_surface(a3D, b3D, cost3D, rstride=1, cstride=1, cmap=plt.get_cmap('rainbow'), alpha=0.5)\n",
    "ax.scatter(a_list[0], b_list[0], zs=cost_list[0], s=300, c='r')  # initial parameter place\n",
    "ax.set_xlabel('a'); ax.set_ylabel('b')\n",
    "ax.plot(a_list, b_list, zs=cost_list, zdir='z', c='r', lw=3)    # plot 3D gradient descent\n",
    "plt.show()"
   ]
  }
 ],
 "metadata": {
  "kernelspec": {
   "display_name": "Python 3",
   "language": "python",
   "name": "python3"
  },
  "language_info": {
   "codemirror_mode": {
    "name": "ipython",
    "version": 3
   },
   "file_extension": ".py",
   "mimetype": "text/x-python",
   "name": "python",
   "nbconvert_exporter": "python",
   "pygments_lexer": "ipython3",
   "version": "3.6.4"
  }
 },
 "nbformat": 4,
 "nbformat_minor": 2
}
